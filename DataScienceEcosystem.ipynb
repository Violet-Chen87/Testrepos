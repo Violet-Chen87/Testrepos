{
  "metadata": {
    "kernelspec": {
      "name": "python",
      "display_name": "Python (Pyodide)",
      "language": "python"
    },
    "language_info": {
      "codemirror_mode": {
        "name": "python",
        "version": 3
      },
      "file_extension": ".py",
      "mimetype": "text/x-python",
      "name": "python",
      "nbconvert_exporter": "python",
      "pygments_lexer": "ipython3",
      "version": "3.8"
    }
  },
  "nbformat_minor": 5,
  "nbformat": 4,
  "cells": [
    {
      "id": "776df4ef-0979-418a-870c-bdefb388101d",
      "cell_type": "markdown",
      "source": "## Data Science Tools and Ecosystem ##",
      "metadata": {}
    },
    {
      "id": "67982e3a-0f51-4c7c-9a89-08b412b6ea9b",
      "cell_type": "markdown",
      "source": "## Author ##\nLeyi Chen",
      "metadata": {}
    },
    {
      "id": "b409a21d-5457-4606-b9cf-686b44016397",
      "cell_type": "markdown",
      "source": "In this notebook, Data Science tools and ecosystems are summarized.",
      "metadata": {}
    },
    {
      "id": "20930ba1-b094-4280-8e49-7265ef138807",
      "cell_type": "markdown",
      "source": "Objectives:\n1. List popular languages for data science\n2. List popular libraries that data scientists use\n3. List some examples of arithmetic expressions.",
      "metadata": {}
    },
    {
      "id": "5b531cee-8ba3-4533-88bc-3d5286e5a181",
      "cell_type": "markdown",
      "source": "### Some of the popular languages for data scientists are: ###\n\n1. Python\n2. R\n3. SQL\n4. Julia",
      "metadata": {}
    },
    {
      "id": "6f500161-4004-4c41-abc9-709af214eef9",
      "cell_type": "markdown",
      "source": "### Some of the popular libraries that data scientists use: ###\n\n1. Tidyverse\n2. Pandas\n3. NumPy",
      "metadata": {}
    },
    {
      "id": "6d8fde49-9b28-4df2-a1a2-e40f580f319c",
      "cell_type": "markdown",
      "source": "| Data Science Tools |\n| ---------- |\n| Jupyter Notebook |\n| Anaconda |\n| Git |",
      "metadata": {}
    },
    {
      "id": "20349faa-2c41-470d-a938-11cba3a0ef62",
      "cell_type": "markdown",
      "source": "### Below are a feww examples of evaluating arithmetic expressions in Python. ###\n\n1. Addition: a + b = c\n2. Subtraction: c - b = a\n3. Multiplication: A * B = C\n4. Division: C / B = A",
      "metadata": {}
    },
    {
      "id": "78936459-d0c8-4141-a603-5122d576a363",
      "cell_type": "markdown",
      "source": "#### This is a simple arithmetic expression of multiplication then add an integer. ###\n(3 * 4) + 5",
      "metadata": {}
    },
    {
      "id": "4e6f1b92-28ca-4235-8d7d-602c810cbcd9",
      "cell_type": "markdown",
      "source": "### This will convert 200 minutes into hours by dividing by 60. ###\n\n200 / 60",
      "metadata": {}
    },
    {
      "id": "f327c454-3d05-4867-8dce-667f79e17a9a",
      "cell_type": "code",
      "source": "",
      "metadata": {
        "trusted": true
      },
      "outputs": [],
      "execution_count": null
    }
  ]
}